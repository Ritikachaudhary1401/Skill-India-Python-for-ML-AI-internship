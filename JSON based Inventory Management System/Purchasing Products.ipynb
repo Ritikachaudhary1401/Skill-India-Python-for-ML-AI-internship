{
 "cells": [
  {
   "cell_type": "markdown",
   "id": "3fe48b34",
   "metadata": {},
   "source": [
    "# Ritika Chaudhary"
   ]
  },
  {
   "cell_type": "markdown",
   "id": "7cb24511",
   "metadata": {},
   "source": [
    "## Python for ML/AI intern @ Elite Techno Groups"
   ]
  },
  {
   "cell_type": "markdown",
   "id": "8a12f779",
   "metadata": {},
   "source": [
    "## Project #1 - JSON Based Inventory Management System"
   ]
  },
  {
   "cell_type": "markdown",
   "id": "b893b896",
   "metadata": {},
   "source": [
    "### Read Inventory"
   ]
  },
  {
   "cell_type": "code",
   "execution_count": 4,
   "id": "7fadf4f9",
   "metadata": {},
   "outputs": [],
   "source": [
    "import json\n",
    "\n",
    "fd = open(\"Record.json\",'r')\n",
    "r = fd.read()\n",
    "fd.close()\n",
    "\n",
    "Record = json.loads(r)"
   ]
  },
  {
   "cell_type": "code",
   "execution_count": 5,
   "id": "bf687d11",
   "metadata": {
    "scrolled": true
   },
   "outputs": [
    {
     "data": {
      "text/plain": [
       "{'1001': {'Name': 'Drink', 'Price': 100, 'Quantity': 100},\n",
       " '1002': {'Name': 'Choco Cake', 'Price': 40, 'Quantity': 20},\n",
       " '1003': {'Name': 'Keyboard', 'Price': 350, 'Quantity': 25},\n",
       " '1004': {'Name': 'Laptop', 'Price': 50000, 'Quantity': 8},\n",
       " '1005': {'Name': 'Juice', 'Price': 150, 'Quantity': 95},\n",
       " '1006': {'Name': 'Pen', 'Price': 20, 'Quantity': 100},\n",
       " '1007': {'Name': 'Box', 'Price': 50, 'Quantity': 70},\n",
       " '1008': {'Name': 'Mobile Phone', 'Price': 15000, 'Quantity': 15},\n",
       " '1009': {'Name': 'Notebook', 'Price': 30, 'Quantity': 75},\n",
       " '1010': {'Name': 'Case', 'Price': 1500, 'Quantity': 55},\n",
       " '1011': {'Name': 'Sofa', 'Price': 40000, 'Quantity': 30},\n",
       " '1012': {'Name': 'Bed', 'Price': 45000, 'Quantity': 17},\n",
       " '1013': {'Name': 'Bulb', 'Price': 50, 'Quantity': 150},\n",
       " '1014': {'Name': 'LED', 'Price': 75000, 'Quantity': 42},\n",
       " '1015': {'Name': 'Tablet', 'Price': 30000, 'Quantity': 18},\n",
       " '1016': {'Name': 'Table', 'Price': 2400, 'Quantity': 23},\n",
       " '1017': {'Name': 'Rod', 'Price': 800, 'Quantity': 750},\n",
       " '1018': {'Name': 'Window Glass', 'Price': 1700, 'Quantity': 67},\n",
       " '1019': {'Name': 'Sun Glasses', 'Price': 1000, 'Quantity': 78},\n",
       " '1020': {'Name': 'Artificial Plants', 'Price': 400, 'Quantity': 350},\n",
       " '1021': {'Name': 'Men Trousers', 'Price': 2500, 'Quantity': 15},\n",
       " '1022': {'Name': 'Men Shirt', 'Price': 3000, 'Quantity': 36},\n",
       " '1023': {'Name': 'Female Dress', 'Price': 5000, 'Quantity': 20},\n",
       " '1024': {'Name': 'Desktop', 'Price': 35000, 'Quantity': 25},\n",
       " '1025': {'Name': 'Mouse', 'Price': 700, 'Quantity': 150},\n",
       " '1026': {'Name': 'Air Conditioner', 'Price': 35000, 'Quantity': 20},\n",
       " '1027': {'Name': 'Cooler', 'Price': 7000, 'Quantity': 15},\n",
       " '1028': {'Name': 'Fan', 'Price': 1500, 'Quantity': 40},\n",
       " '1029': {'Name': 'Refrigerator', 'Price': 40000, 'Quantity': 20},\n",
       " '1030': {'Name': 'Chair', 'Price': 800, 'Quantity': 200},\n",
       " '1031': {'Name': 'Stationary kit', 'Price': 200, 'Quantity': 50},\n",
       " '1032': {'Name': 'Chocolate', 'Price': 150, 'Quantity': 70},\n",
       " '1033': {'Name': 'Hat', 'Price': 150, 'Quantity': 50},\n",
       " '1034': {'Name': 'Ceiling Fan', 'Price': 1500, 'Quantity': 40},\n",
       " '1035': {'Name': 'Bread', 'Price': 40, 'Quantity': 55}}"
      ]
     },
     "execution_count": 5,
     "metadata": {},
     "output_type": "execute_result"
    }
   ],
   "source": [
    "Record"
   ]
  },
  {
   "cell_type": "markdown",
   "id": "4018816b",
   "metadata": {},
   "source": [
    "### Purchasing Products"
   ]
  },
  {
   "cell_type": "code",
   "execution_count": 7,
   "id": "9dfae94c",
   "metadata": {},
   "outputs": [
    {
     "name": "stdout",
     "output_type": "stream",
     "text": [
      "Enter the Product_Id: 1001\n",
      "Enter the Quantity: 5\n",
      "Product:  Drink\n",
      "Price:  100\n",
      "Billing Amount:  500\n"
     ]
    }
   ],
   "source": [
    "ui_prod  = str(input(\"Enter the Product_Id: \"))\n",
    "ui_quant = int(input(\"Enter the Quantity: \"))\n",
    "\n",
    "\n",
    "print(\"Product: \", Record[ui_prod]['Name'])\n",
    "print(\"Price: \", Record[ui_prod]['Price'])\n",
    "print(\"Billing Amount: \", Record[ui_prod]['Price'] * ui_quant)\n",
    "\n",
    "Record[ui_prod]['Quantity'] = Record[ui_prod]['Quantity'] - ui_quant"
   ]
  },
  {
   "cell_type": "markdown",
   "id": "4981c9b3",
   "metadata": {},
   "source": [
    "### Update Inventory after purchase"
   ]
  },
  {
   "cell_type": "code",
   "execution_count": 8,
   "id": "3c0efc10",
   "metadata": {},
   "outputs": [],
   "source": [
    "js = json.dumps(Record)\n",
    "\n",
    "fd = open(\"Record.json\",'w')\n",
    "fd.write(js)\n",
    "fd.close()"
   ]
  },
  {
   "cell_type": "markdown",
   "id": "dfc9f2a5",
   "metadata": {},
   "source": [
    "### Sales JSON"
   ]
  },
  {
   "cell_type": "code",
   "execution_count": 10,
   "id": "de9d2416",
   "metadata": {},
   "outputs": [
    {
     "data": {
      "text/plain": [
       "{'Prod': '1001', 'Quantity': 5, 'Amount': 500}"
      ]
     },
     "execution_count": 10,
     "metadata": {},
     "output_type": "execute_result"
    }
   ],
   "source": [
    "{'Prod' : ui_prod, 'Quantity' : ui_quant, 'Amount': Record[ui_prod]['Price'] * ui_quant}"
   ]
  },
  {
   "cell_type": "code",
   "execution_count": 11,
   "id": "e965df3a",
   "metadata": {},
   "outputs": [],
   "source": [
    "sales = {1 : {'Prod' : ui_prod, 'Quantity' : ui_quant, 'Amount': Record[ui_prod]['Price'] * ui_quant},\n",
    "         2 : {'Prod' : ui_prod, 'Quantity' : ui_quant, 'Amount': Record[ui_prod]['Price'] * ui_quant},\n",
    "         3 : {'Prod' : ui_prod, 'Quantity' : ui_quant, 'Amount': Record[ui_prod]['Price'] * ui_quant}}"
   ]
  },
  {
   "cell_type": "code",
   "execution_count": 12,
   "id": "31f47067",
   "metadata": {},
   "outputs": [],
   "source": [
    "sale = json.dumps(sales)"
   ]
  },
  {
   "cell_type": "code",
   "execution_count": 13,
   "id": "946a5f85",
   "metadata": {
    "scrolled": true
   },
   "outputs": [
    {
     "data": {
      "text/plain": [
       "'{\"1\": {\"Prod\": \"1001\", \"Quantity\": 5, \"Amount\": 500}, \"2\": {\"Prod\": \"1001\", \"Quantity\": 5, \"Amount\": 500}, \"3\": {\"Prod\": \"1001\", \"Quantity\": 5, \"Amount\": 500}}'"
      ]
     },
     "execution_count": 13,
     "metadata": {},
     "output_type": "execute_result"
    }
   ],
   "source": [
    "sale"
   ]
  },
  {
   "cell_type": "markdown",
   "id": "538e637d",
   "metadata": {},
   "source": [
    "### Thank You"
   ]
  }
 ],
 "metadata": {
  "kernelspec": {
   "display_name": "Python 3",
   "language": "python",
   "name": "python3"
  },
  "language_info": {
   "codemirror_mode": {
    "name": "ipython",
    "version": 3
   },
   "file_extension": ".py",
   "mimetype": "text/x-python",
   "name": "python",
   "nbconvert_exporter": "python",
   "pygments_lexer": "ipython3",
   "version": "3.8.8"
  }
 },
 "nbformat": 4,
 "nbformat_minor": 5
}
