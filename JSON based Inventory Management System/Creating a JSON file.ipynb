{
 "cells": [
  {
   "cell_type": "markdown",
   "id": "4475d83c",
   "metadata": {},
   "source": [
    "# Ritika Chaudhary"
   ]
  },
  {
   "cell_type": "markdown",
   "id": "480b14ed",
   "metadata": {},
   "source": [
    "## Python for ML/AI intern @ Elite Techno Groups"
   ]
  },
  {
   "cell_type": "markdown",
   "id": "7792c59f",
   "metadata": {},
   "source": [
    "## Project #1 - JSON Based Inventory Management System"
   ]
  },
  {
   "cell_type": "markdown",
   "id": "79682c69",
   "metadata": {},
   "source": [
    "### Create a JSON file"
   ]
  },
  {
   "cell_type": "code",
   "execution_count": 10,
   "id": "e6b4ecf2",
   "metadata": {},
   "outputs": [],
   "source": [
    "import json"
   ]
  },
  {
   "cell_type": "code",
   "execution_count": 11,
   "id": "ce9202cc",
   "metadata": {},
   "outputs": [],
   "source": [
    "Record={\n",
    "    1001: {\"Name\": \"Drink\", \"Price\": 100, \"Quantity\": 100},\n",
    "    1002: {\"Name\": \"Choco Cake\", \"Price\": 40, \"Quantity\": 20},\n",
    "    1003: {\"Name\": \"Keyboard\", \"Price\": 350, \"Quantity\": 25},\n",
    "    1004: {\"Name\": \"Laptop\", \"Price\": 50000, \"Quantity\": 8}, \n",
    "    1005: {\"Name\": \"Juice\", \"Price\": 150, \"Quantity\": 95},\n",
    "    1006: {\"Name\": \"Pen\", \"Price\": 20, \"Quantity\": 100}, \n",
    "    1007: {\"Name\": \"Box\", \"Price\": 50, \"Quantity\": 70}, \n",
    "    1008: {\"Name\": \"Mobile Phone\", \"Price\": 15000, \"Quantity\": 15}, \n",
    "    1009: {\"Name\": \"Notebook\", \"Price\": 30, \"Quantity\": 75}, \n",
    "    1010: {\"Name\": \"Case\", \"Price\": 1500, \"Quantity\": 55},\n",
    "    1011: {\"Name\": \"Sofa\", \"Price\": 40000, \"Quantity\": 30},\n",
    "    1012: {\"Name\": \"Bed\", \"Price\": 45000, \"Quantity\": 17},\n",
    "    1013: {\"Name\": \"Bulb\", \"Price\": 50, \"Quantity\": 150}, \n",
    "    1014: {\"Name\": \"LED\", \"Price\": 75000, \"Quantity\": 42},\n",
    "    1015: {\"Name\": \"Tablet\", \"Price\": 30000, \"Quantity\": 18}, \n",
    "    1016: {\"Name\": \"Table\", \"Price\": 2400, \"Quantity\": 23},\n",
    "    1017: {\"Name\": \"Rod\", \"Price\": 800, \"Quantity\": 750}, \n",
    "    1018: {\"Name\": \"Window Glass\", \"Price\": 1700, \"Quantity\": 67},\n",
    "    1019: {\"Name\": \"Sun Glasses\", \"Price\": 1000, \"Quantity\": 78},\n",
    "    1020: {\"Name\": \"Artificial Plants\", \"Price\": 400, \"Quantity\": 350}\n",
    "}"
   ]
  },
  {
   "cell_type": "code",
   "execution_count": 12,
   "id": "c01366a6",
   "metadata": {},
   "outputs": [],
   "source": [
    "js=json.dumps(Record)"
   ]
  },
  {
   "cell_type": "code",
   "execution_count": 13,
   "id": "a13510de",
   "metadata": {},
   "outputs": [
    {
     "data": {
      "text/plain": [
       "'{\"1001\": {\"Name\": \"Drink\", \"Price\": 100, \"Quantity\": 100}, \"1002\": {\"Name\": \"Choco Cake\", \"Price\": 40, \"Quantity\": 20}, \"1003\": {\"Name\": \"Keyboard\", \"Price\": 350, \"Quantity\": 25}, \"1004\": {\"Name\": \"Laptop\", \"Price\": 50000, \"Quantity\": 8}, \"1005\": {\"Name\": \"Juice\", \"Price\": 150, \"Quantity\": 95}, \"1006\": {\"Name\": \"Pen\", \"Price\": 20, \"Quantity\": 100}, \"1007\": {\"Name\": \"Box\", \"Price\": 50, \"Quantity\": 70}, \"1008\": {\"Name\": \"Mobile Phone\", \"Price\": 15000, \"Quantity\": 15}, \"1009\": {\"Name\": \"Notebook\", \"Price\": 30, \"Quantity\": 75}, \"1010\": {\"Name\": \"Case\", \"Price\": 1500, \"Quantity\": 55}, \"1011\": {\"Name\": \"Sofa\", \"Price\": 40000, \"Quantity\": 30}, \"1012\": {\"Name\": \"Bed\", \"Price\": 45000, \"Quantity\": 17}, \"1013\": {\"Name\": \"Bulb\", \"Price\": 50, \"Quantity\": 150}, \"1014\": {\"Name\": \"LED\", \"Price\": 75000, \"Quantity\": 42}, \"1015\": {\"Name\": \"Tablet\", \"Price\": 30000, \"Quantity\": 18}, \"1016\": {\"Name\": \"Table\", \"Price\": 2400, \"Quantity\": 23}, \"1017\": {\"Name\": \"Rod\", \"Price\": 800, \"Quantity\": 750}, \"1018\": {\"Name\": \"Window Glass\", \"Price\": 1700, \"Quantity\": 67}, \"1019\": {\"Name\": \"Sun Glasses\", \"Price\": 1000, \"Quantity\": 78}, \"1020\": {\"Name\": \"Artificial Plants\", \"Price\": 400, \"Quantity\": 350}}'"
      ]
     },
     "execution_count": 13,
     "metadata": {},
     "output_type": "execute_result"
    }
   ],
   "source": [
    "js"
   ]
  },
  {
   "cell_type": "code",
   "execution_count": 14,
   "id": "e3c5cb1f",
   "metadata": {},
   "outputs": [],
   "source": [
    "fd=open(\"Record.json\",'w')\n",
    "fd.write(js)\n",
    "fd.close()"
   ]
  }
 ],
 "metadata": {
  "kernelspec": {
   "display_name": "Python 3",
   "language": "python",
   "name": "python3"
  },
  "language_info": {
   "codemirror_mode": {
    "name": "ipython",
    "version": 3
   },
   "file_extension": ".py",
   "mimetype": "text/x-python",
   "name": "python",
   "nbconvert_exporter": "python",
   "pygments_lexer": "ipython3",
   "version": "3.8.8"
  }
 },
 "nbformat": 4,
 "nbformat_minor": 5
}
