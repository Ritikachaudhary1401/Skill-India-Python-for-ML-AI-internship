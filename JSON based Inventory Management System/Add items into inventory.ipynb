{
 "cells": [
  {
   "cell_type": "markdown",
   "id": "c5430d2c",
   "metadata": {},
   "source": [
    "# Ritika Chaudhary"
   ]
  },
  {
   "cell_type": "markdown",
   "id": "eb98e2d9",
   "metadata": {},
   "source": [
    "## Python for ML/AI intern @ Elite Techno Groups"
   ]
  },
  {
   "cell_type": "markdown",
   "id": "9acfcaeb",
   "metadata": {},
   "source": [
    "##  Project #1 - JSON Based Inventory Management System"
   ]
  },
  {
   "cell_type": "markdown",
   "id": "1b672f98",
   "metadata": {},
   "source": [
    "### Read Data From JSON"
   ]
  },
  {
   "cell_type": "code",
   "execution_count": 1,
   "id": "f81145f5",
   "metadata": {},
   "outputs": [],
   "source": [
    "import json"
   ]
  },
  {
   "cell_type": "code",
   "execution_count": 2,
   "id": "89f56bd6",
   "metadata": {},
   "outputs": [],
   "source": [
    "fd=open(\"Record.json\",'r')\n",
    "r=fd.read()\n",
    "fd.close()"
   ]
  },
  {
   "cell_type": "code",
   "execution_count": 3,
   "id": "84108344",
   "metadata": {},
   "outputs": [],
   "source": [
    "Record=json.loads(r)"
   ]
  },
  {
   "cell_type": "code",
   "execution_count": 4,
   "id": "5f3ddb56",
   "metadata": {},
   "outputs": [
    {
     "data": {
      "text/plain": [
       "{'1001': {'Name': 'Drink', 'Price': 100, 'Quantity': 100},\n",
       " '1002': {'Name': 'Choco Cake', 'Price': 40, 'Quantity': 20},\n",
       " '1003': {'Name': 'Keyboard', 'Price': 350, 'Quantity': 25},\n",
       " '1004': {'Name': 'Laptop', 'Price': 50000, 'Quantity': 8},\n",
       " '1005': {'Name': 'Juice', 'Price': 150, 'Quantity': 95},\n",
       " '1006': {'Name': 'Pen', 'Price': 20, 'Quantity': 100},\n",
       " '1007': {'Name': 'Box', 'Price': 50, 'Quantity': 70},\n",
       " '1008': {'Name': 'Mobile Phone', 'Price': 15000, 'Quantity': 15},\n",
       " '1009': {'Name': 'Notebook', 'Price': 30, 'Quantity': 75},\n",
       " '1010': {'Name': 'Case', 'Price': 1500, 'Quantity': 55},\n",
       " '1011': {'Name': 'Sofa', 'Price': 40000, 'Quantity': 30},\n",
       " '1012': {'Name': 'Bed', 'Price': 45000, 'Quantity': 17},\n",
       " '1013': {'Name': 'Bulb', 'Price': 50, 'Quantity': 150},\n",
       " '1014': {'Name': 'LED', 'Price': 75000, 'Quantity': 42},\n",
       " '1015': {'Name': 'Tablet', 'Price': 30000, 'Quantity': 18},\n",
       " '1016': {'Name': 'Table', 'Price': 2400, 'Quantity': 23},\n",
       " '1017': {'Name': 'Rod', 'Price': 800, 'Quantity': 750},\n",
       " '1018': {'Name': 'Window Glass', 'Price': 1700, 'Quantity': 67},\n",
       " '1019': {'Name': 'Sun Glasses', 'Price': 1000, 'Quantity': 78},\n",
       " '1020': {'Name': 'Artificial Plants', 'Price': 400, 'Quantity': 350}}"
      ]
     },
     "execution_count": 4,
     "metadata": {},
     "output_type": "execute_result"
    }
   ],
   "source": [
    "Record"
   ]
  },
  {
   "cell_type": "markdown",
   "id": "81d4fa4d",
   "metadata": {},
   "source": [
    "### Add new item into inventory"
   ]
  },
  {
   "cell_type": "code",
   "execution_count": 5,
   "id": "e5dd3919",
   "metadata": {},
   "outputs": [
    {
     "name": "stdout",
     "output_type": "stream",
     "text": [
      "Number of items15\n",
      "Enter Name of the Product: Men Trousers\n",
      "Enter Price of the product: 2500\n",
      "Enter quantity of the product: 15\n",
      "Enter Name of the Product: Men Shirt\n",
      "Enter Price of the product: 3000\n",
      "Enter quantity of the product: 36\n",
      "Enter Name of the Product: Female Dress\n",
      "Enter Price of the product: 5000\n",
      "Enter quantity of the product: 20\n",
      "Enter Name of the Product: Desktop\n",
      "Enter Price of the product: 35000\n",
      "Enter quantity of the product: 25\n",
      "Enter Name of the Product: Mouse\n",
      "Enter Price of the product: 700\n",
      "Enter quantity of the product: 150\n",
      "Enter Name of the Product: Air Conditioner\n",
      "Enter Price of the product: 35000\n",
      "Enter quantity of the product: 20\n",
      "Enter Name of the Product: Cooler\n",
      "Enter Price of the product: 7000\n",
      "Enter quantity of the product: 15\n",
      "Enter Name of the Product: Fan\n",
      "Enter Price of the product: 1500\n",
      "Enter quantity of the product: 40\n",
      "Enter Name of the Product: Refrigerator\n",
      "Enter Price of the product: 40000\n",
      "Enter quantity of the product: 20\n",
      "Enter Name of the Product: Chair\n",
      "Enter Price of the product: 800\n",
      "Enter quantity of the product: 200\n",
      "Enter Name of the Product: Stationary kit\n",
      "Enter Price of the product: 200\n",
      "Enter quantity of the product: 50\n",
      "Enter Name of the Product: Chocolate\n",
      "Enter Price of the product: 150\n",
      "Enter quantity of the product: 70\n",
      "Enter Name of the Product: Hat\n",
      "Enter Price of the product: 150\n",
      "Enter quantity of the product: 50\n",
      "Enter Name of the Product: Ceiling Fan\n",
      "Enter Price of the product: 1500\n",
      "Enter quantity of the product: 40\n",
      "Enter Name of the Product: Bread\n",
      "Enter Price of the product: 40\n",
      "Enter quantity of the product: 55\n"
     ]
    }
   ],
   "source": [
    "n=int(input(\"Number of items\"))\n",
    "prod_id=1020\n",
    "for i in range(n):\n",
    "    prod_id=prod_id+1\n",
    "    Name=input(\"Enter Name of the Product: \")\n",
    "    Price=int(input(\"Enter Price of the product: \"))\n",
    "    Quantity=int(input(\"Enter quantity of the product: \"))\n",
    "    Record[prod_id] = {'Name': Name, 'Price': Price, 'Quantity': Quantity}\n",
    "\n",
    "    js = json.dumps(Record)\n",
    "\n",
    "    fd = open(\"Record.json\",'w')\n",
    "    fd.write(js)\n",
    "    fd.close()"
   ]
  },
  {
   "cell_type": "code",
   "execution_count": 6,
   "id": "88366956",
   "metadata": {},
   "outputs": [
    {
     "data": {
      "text/plain": [
       "{'1001': {'Name': 'Drink', 'Price': 100, 'Quantity': 100},\n",
       " '1002': {'Name': 'Choco Cake', 'Price': 40, 'Quantity': 20},\n",
       " '1003': {'Name': 'Keyboard', 'Price': 350, 'Quantity': 25},\n",
       " '1004': {'Name': 'Laptop', 'Price': 50000, 'Quantity': 8},\n",
       " '1005': {'Name': 'Juice', 'Price': 150, 'Quantity': 95},\n",
       " '1006': {'Name': 'Pen', 'Price': 20, 'Quantity': 100},\n",
       " '1007': {'Name': 'Box', 'Price': 50, 'Quantity': 70},\n",
       " '1008': {'Name': 'Mobile Phone', 'Price': 15000, 'Quantity': 15},\n",
       " '1009': {'Name': 'Notebook', 'Price': 30, 'Quantity': 75},\n",
       " '1010': {'Name': 'Case', 'Price': 1500, 'Quantity': 55},\n",
       " '1011': {'Name': 'Sofa', 'Price': 40000, 'Quantity': 30},\n",
       " '1012': {'Name': 'Bed', 'Price': 45000, 'Quantity': 17},\n",
       " '1013': {'Name': 'Bulb', 'Price': 50, 'Quantity': 150},\n",
       " '1014': {'Name': 'LED', 'Price': 75000, 'Quantity': 42},\n",
       " '1015': {'Name': 'Tablet', 'Price': 30000, 'Quantity': 18},\n",
       " '1016': {'Name': 'Table', 'Price': 2400, 'Quantity': 23},\n",
       " '1017': {'Name': 'Rod', 'Price': 800, 'Quantity': 750},\n",
       " '1018': {'Name': 'Window Glass', 'Price': 1700, 'Quantity': 67},\n",
       " '1019': {'Name': 'Sun Glasses', 'Price': 1000, 'Quantity': 78},\n",
       " '1020': {'Name': 'Artificial Plants', 'Price': 400, 'Quantity': 350},\n",
       " 1021: {'Name': 'Men Trousers', 'Price': 2500, 'Quantity': 15},\n",
       " 1022: {'Name': 'Men Shirt', 'Price': 3000, 'Quantity': 36},\n",
       " 1023: {'Name': 'Female Dress', 'Price': 5000, 'Quantity': 20},\n",
       " 1024: {'Name': 'Desktop', 'Price': 35000, 'Quantity': 25},\n",
       " 1025: {'Name': 'Mouse', 'Price': 700, 'Quantity': 150},\n",
       " 1026: {'Name': 'Air Conditioner', 'Price': 35000, 'Quantity': 20},\n",
       " 1027: {'Name': 'Cooler', 'Price': 7000, 'Quantity': 15},\n",
       " 1028: {'Name': 'Fan', 'Price': 1500, 'Quantity': 40},\n",
       " 1029: {'Name': 'Refrigerator', 'Price': 40000, 'Quantity': 20},\n",
       " 1030: {'Name': 'Chair', 'Price': 800, 'Quantity': 200},\n",
       " 1031: {'Name': 'Stationary kit', 'Price': 200, 'Quantity': 50},\n",
       " 1032: {'Name': 'Chocolate', 'Price': 150, 'Quantity': 70},\n",
       " 1033: {'Name': 'Hat', 'Price': 150, 'Quantity': 50},\n",
       " 1034: {'Name': 'Ceiling Fan', 'Price': 1500, 'Quantity': 40},\n",
       " 1035: {'Name': 'Bread', 'Price': 40, 'Quantity': 55}}"
      ]
     },
     "execution_count": 6,
     "metadata": {},
     "output_type": "execute_result"
    }
   ],
   "source": [
    "Record"
   ]
  },
  {
   "cell_type": "code",
   "execution_count": 7,
   "id": "ec529466",
   "metadata": {},
   "outputs": [],
   "source": [
    "# del record[1008] ....to delete a particular record"
   ]
  }
 ],
 "metadata": {
  "kernelspec": {
   "display_name": "Python 3",
   "language": "python",
   "name": "python3"
  },
  "language_info": {
   "codemirror_mode": {
    "name": "ipython",
    "version": 3
   },
   "file_extension": ".py",
   "mimetype": "text/x-python",
   "name": "python",
   "nbconvert_exporter": "python",
   "pygments_lexer": "ipython3",
   "version": "3.8.8"
  }
 },
 "nbformat": 4,
 "nbformat_minor": 5
}
